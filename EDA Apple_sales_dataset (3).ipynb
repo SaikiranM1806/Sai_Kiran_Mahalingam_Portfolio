{
 "cells": [
  {
   "cell_type": "code",
   "execution_count": 2,
   "id": "06830dd4-036b-44ad-858a-30f50f9a823d",
   "metadata": {},
   "outputs": [],
   "source": [
    "import pandas as pd \n",
    "import matplotlib as plt\n",
    "import numpy as np\n",
    "\n",
    "k=pd.read_csv(\"C:\\\\Users\\\\Sai Kiran Mahalingam\\\\OneDrive\\\\Desktop\\\\Besant Data Science\\\\Data Science\\\\apple_sales_2024.csv\")"
   ]
  },
  {
   "cell_type": "code",
   "execution_count": 5,
   "id": "21c9053a-bac7-4b38-b83e-7dda72149edd",
   "metadata": {},
   "outputs": [
    {
     "data": {
      "text/html": [
       "<div>\n",
       "<style scoped>\n",
       "    .dataframe tbody tr th:only-of-type {\n",
       "        vertical-align: middle;\n",
       "    }\n",
       "\n",
       "    .dataframe tbody tr th {\n",
       "        vertical-align: top;\n",
       "    }\n",
       "\n",
       "    .dataframe thead th {\n",
       "        text-align: right;\n",
       "    }\n",
       "</style>\n",
       "<table border=\"1\" class=\"dataframe\">\n",
       "  <thead>\n",
       "    <tr style=\"text-align: right;\">\n",
       "      <th></th>\n",
       "      <th>State</th>\n",
       "      <th>Region</th>\n",
       "      <th>iPhone Sales (in million units)</th>\n",
       "      <th>iPad Sales (in million units)</th>\n",
       "      <th>Mac Sales (in million units)</th>\n",
       "      <th>Wearables (in million units)</th>\n",
       "      <th>Services Revenue (in billion $)</th>\n",
       "    </tr>\n",
       "  </thead>\n",
       "  <tbody>\n",
       "    <tr>\n",
       "      <th>0</th>\n",
       "      <td>Chongqing</td>\n",
       "      <td>Greater China</td>\n",
       "      <td>7.46</td>\n",
       "      <td>6.75</td>\n",
       "      <td>1.19</td>\n",
       "      <td>5.88</td>\n",
       "      <td>15.88</td>\n",
       "    </tr>\n",
       "    <tr>\n",
       "      <th>1</th>\n",
       "      <td>Germany</td>\n",
       "      <td>Europe</td>\n",
       "      <td>8.63</td>\n",
       "      <td>14.06</td>\n",
       "      <td>7.03</td>\n",
       "      <td>7.42</td>\n",
       "      <td>10.12</td>\n",
       "    </tr>\n",
       "    <tr>\n",
       "      <th>2</th>\n",
       "      <td>UK</td>\n",
       "      <td>Europe</td>\n",
       "      <td>5.61</td>\n",
       "      <td>14.09</td>\n",
       "      <td>8.78</td>\n",
       "      <td>8.19</td>\n",
       "      <td>19.85</td>\n",
       "    </tr>\n",
       "    <tr>\n",
       "      <th>3</th>\n",
       "      <td>Shanghai</td>\n",
       "      <td>Greater China</td>\n",
       "      <td>7.82</td>\n",
       "      <td>7.97</td>\n",
       "      <td>9.78</td>\n",
       "      <td>2.28</td>\n",
       "      <td>6.16</td>\n",
       "    </tr>\n",
       "    <tr>\n",
       "      <th>4</th>\n",
       "      <td>Thailand</td>\n",
       "      <td>Rest of Asia</td>\n",
       "      <td>16.70</td>\n",
       "      <td>8.13</td>\n",
       "      <td>6.46</td>\n",
       "      <td>3.48</td>\n",
       "      <td>13.29</td>\n",
       "    </tr>\n",
       "  </tbody>\n",
       "</table>\n",
       "</div>"
      ],
      "text/plain": [
       "       State         Region  iPhone Sales (in million units)  \\\n",
       "0  Chongqing  Greater China                             7.46   \n",
       "1    Germany         Europe                             8.63   \n",
       "2         UK         Europe                             5.61   \n",
       "3   Shanghai  Greater China                             7.82   \n",
       "4   Thailand   Rest of Asia                            16.70   \n",
       "\n",
       "   iPad Sales (in million units)  Mac Sales (in million units)  \\\n",
       "0                           6.75                          1.19   \n",
       "1                          14.06                          7.03   \n",
       "2                          14.09                          8.78   \n",
       "3                           7.97                          9.78   \n",
       "4                           8.13                          6.46   \n",
       "\n",
       "   Wearables (in million units)  Services Revenue (in billion $)  \n",
       "0                          5.88                            15.88  \n",
       "1                          7.42                            10.12  \n",
       "2                          8.19                            19.85  \n",
       "3                          2.28                             6.16  \n",
       "4                          3.48                            13.29  "
      ]
     },
     "execution_count": 5,
     "metadata": {},
     "output_type": "execute_result"
    }
   ],
   "source": [
    "k.head() #----------> Displays first 5 rows"
   ]
  },
  {
   "cell_type": "code",
   "execution_count": 6,
   "id": "492cb30d-5229-4cbd-b1a9-cdd2986e9711",
   "metadata": {},
   "outputs": [
    {
     "data": {
      "text/html": [
       "<div>\n",
       "<style scoped>\n",
       "    .dataframe tbody tr th:only-of-type {\n",
       "        vertical-align: middle;\n",
       "    }\n",
       "\n",
       "    .dataframe tbody tr th {\n",
       "        vertical-align: top;\n",
       "    }\n",
       "\n",
       "    .dataframe thead th {\n",
       "        text-align: right;\n",
       "    }\n",
       "</style>\n",
       "<table border=\"1\" class=\"dataframe\">\n",
       "  <thead>\n",
       "    <tr style=\"text-align: right;\">\n",
       "      <th></th>\n",
       "      <th>State</th>\n",
       "      <th>Region</th>\n",
       "      <th>iPhone Sales (in million units)</th>\n",
       "      <th>iPad Sales (in million units)</th>\n",
       "      <th>Mac Sales (in million units)</th>\n",
       "      <th>Wearables (in million units)</th>\n",
       "      <th>Services Revenue (in billion $)</th>\n",
       "    </tr>\n",
       "  </thead>\n",
       "  <tbody>\n",
       "    <tr>\n",
       "      <th>995</th>\n",
       "      <td>Mexico</td>\n",
       "      <td>Rest of World</td>\n",
       "      <td>29.86</td>\n",
       "      <td>10.30</td>\n",
       "      <td>7.40</td>\n",
       "      <td>9.60</td>\n",
       "      <td>18.56</td>\n",
       "    </tr>\n",
       "    <tr>\n",
       "      <th>996</th>\n",
       "      <td>Texas</td>\n",
       "      <td>North America</td>\n",
       "      <td>27.83</td>\n",
       "      <td>12.52</td>\n",
       "      <td>8.89</td>\n",
       "      <td>4.46</td>\n",
       "      <td>6.38</td>\n",
       "    </tr>\n",
       "    <tr>\n",
       "      <th>997</th>\n",
       "      <td>Germany</td>\n",
       "      <td>Europe</td>\n",
       "      <td>25.47</td>\n",
       "      <td>7.69</td>\n",
       "      <td>7.90</td>\n",
       "      <td>6.90</td>\n",
       "      <td>15.00</td>\n",
       "    </tr>\n",
       "    <tr>\n",
       "      <th>998</th>\n",
       "      <td>Shenzhen</td>\n",
       "      <td>Greater China</td>\n",
       "      <td>15.34</td>\n",
       "      <td>8.81</td>\n",
       "      <td>8.24</td>\n",
       "      <td>8.78</td>\n",
       "      <td>15.49</td>\n",
       "    </tr>\n",
       "    <tr>\n",
       "      <th>999</th>\n",
       "      <td>Shanghai</td>\n",
       "      <td>Greater China</td>\n",
       "      <td>26.30</td>\n",
       "      <td>4.06</td>\n",
       "      <td>3.41</td>\n",
       "      <td>5.69</td>\n",
       "      <td>14.29</td>\n",
       "    </tr>\n",
       "  </tbody>\n",
       "</table>\n",
       "</div>"
      ],
      "text/plain": [
       "        State         Region  iPhone Sales (in million units)  \\\n",
       "995    Mexico  Rest of World                            29.86   \n",
       "996     Texas  North America                            27.83   \n",
       "997   Germany         Europe                            25.47   \n",
       "998  Shenzhen  Greater China                            15.34   \n",
       "999  Shanghai  Greater China                            26.30   \n",
       "\n",
       "     iPad Sales (in million units)  Mac Sales (in million units)  \\\n",
       "995                          10.30                          7.40   \n",
       "996                          12.52                          8.89   \n",
       "997                           7.69                          7.90   \n",
       "998                           8.81                          8.24   \n",
       "999                           4.06                          3.41   \n",
       "\n",
       "     Wearables (in million units)  Services Revenue (in billion $)  \n",
       "995                          9.60                            18.56  \n",
       "996                          4.46                             6.38  \n",
       "997                          6.90                            15.00  \n",
       "998                          8.78                            15.49  \n",
       "999                          5.69                            14.29  "
      ]
     },
     "execution_count": 6,
     "metadata": {},
     "output_type": "execute_result"
    }
   ],
   "source": [
    "k.tail()   #----------> Displays Last 5 Rows"
   ]
  },
  {
   "cell_type": "code",
   "execution_count": 7,
   "id": "4167d270-66e9-4acb-ba55-c311260e0b07",
   "metadata": {},
   "outputs": [
    {
     "name": "stdout",
     "output_type": "stream",
     "text": [
      "<class 'pandas.core.frame.DataFrame'>\n",
      "RangeIndex: 1000 entries, 0 to 999\n",
      "Data columns (total 7 columns):\n",
      " #   Column                           Non-Null Count  Dtype  \n",
      "---  ------                           --------------  -----  \n",
      " 0   State                            1000 non-null   object \n",
      " 1   Region                           1000 non-null   object \n",
      " 2   iPhone Sales (in million units)  1000 non-null   float64\n",
      " 3   iPad Sales (in million units)    1000 non-null   float64\n",
      " 4   Mac Sales (in million units)     1000 non-null   float64\n",
      " 5   Wearables (in million units)     1000 non-null   float64\n",
      " 6   Services Revenue (in billion $)  1000 non-null   float64\n",
      "dtypes: float64(5), object(2)\n",
      "memory usage: 54.8+ KB\n"
     ]
    }
   ],
   "source": [
    "k.info() #----------> summary of the dataset"
   ]
  },
  {
   "cell_type": "code",
   "execution_count": 8,
   "id": "e84e8e7b-c320-4435-bfe5-8923853a2fdf",
   "metadata": {},
   "outputs": [
    {
     "data": {
      "text/html": [
       "<div>\n",
       "<style scoped>\n",
       "    .dataframe tbody tr th:only-of-type {\n",
       "        vertical-align: middle;\n",
       "    }\n",
       "\n",
       "    .dataframe tbody tr th {\n",
       "        vertical-align: top;\n",
       "    }\n",
       "\n",
       "    .dataframe thead th {\n",
       "        text-align: right;\n",
       "    }\n",
       "</style>\n",
       "<table border=\"1\" class=\"dataframe\">\n",
       "  <thead>\n",
       "    <tr style=\"text-align: right;\">\n",
       "      <th></th>\n",
       "      <th>iPhone Sales (in million units)</th>\n",
       "      <th>iPad Sales (in million units)</th>\n",
       "      <th>Mac Sales (in million units)</th>\n",
       "      <th>Wearables (in million units)</th>\n",
       "      <th>Services Revenue (in billion $)</th>\n",
       "    </tr>\n",
       "  </thead>\n",
       "  <tbody>\n",
       "    <tr>\n",
       "      <th>count</th>\n",
       "      <td>1000.000000</td>\n",
       "      <td>1000.000000</td>\n",
       "      <td>1000.000000</td>\n",
       "      <td>1000.000000</td>\n",
       "      <td>1000.000000</td>\n",
       "    </tr>\n",
       "    <tr>\n",
       "      <th>mean</th>\n",
       "      <td>17.444500</td>\n",
       "      <td>8.565880</td>\n",
       "      <td>5.555760</td>\n",
       "      <td>6.935500</td>\n",
       "      <td>12.447130</td>\n",
       "    </tr>\n",
       "    <tr>\n",
       "      <th>std</th>\n",
       "      <td>7.180077</td>\n",
       "      <td>3.735994</td>\n",
       "      <td>2.506491</td>\n",
       "      <td>2.951677</td>\n",
       "      <td>4.306347</td>\n",
       "    </tr>\n",
       "    <tr>\n",
       "      <th>min</th>\n",
       "      <td>5.030000</td>\n",
       "      <td>2.020000</td>\n",
       "      <td>1.010000</td>\n",
       "      <td>2.000000</td>\n",
       "      <td>5.010000</td>\n",
       "    </tr>\n",
       "    <tr>\n",
       "      <th>25%</th>\n",
       "      <td>11.447500</td>\n",
       "      <td>5.432500</td>\n",
       "      <td>3.470000</td>\n",
       "      <td>4.330000</td>\n",
       "      <td>8.710000</td>\n",
       "    </tr>\n",
       "    <tr>\n",
       "      <th>50%</th>\n",
       "      <td>17.130000</td>\n",
       "      <td>8.695000</td>\n",
       "      <td>5.550000</td>\n",
       "      <td>6.815000</td>\n",
       "      <td>12.205000</td>\n",
       "    </tr>\n",
       "    <tr>\n",
       "      <th>75%</th>\n",
       "      <td>23.715000</td>\n",
       "      <td>11.740000</td>\n",
       "      <td>7.730000</td>\n",
       "      <td>9.532500</td>\n",
       "      <td>16.252500</td>\n",
       "    </tr>\n",
       "    <tr>\n",
       "      <th>max</th>\n",
       "      <td>29.940000</td>\n",
       "      <td>14.990000</td>\n",
       "      <td>9.990000</td>\n",
       "      <td>12.000000</td>\n",
       "      <td>19.920000</td>\n",
       "    </tr>\n",
       "  </tbody>\n",
       "</table>\n",
       "</div>"
      ],
      "text/plain": [
       "       iPhone Sales (in million units)  iPad Sales (in million units)  \\\n",
       "count                      1000.000000                    1000.000000   \n",
       "mean                         17.444500                       8.565880   \n",
       "std                           7.180077                       3.735994   \n",
       "min                           5.030000                       2.020000   \n",
       "25%                          11.447500                       5.432500   \n",
       "50%                          17.130000                       8.695000   \n",
       "75%                          23.715000                      11.740000   \n",
       "max                          29.940000                      14.990000   \n",
       "\n",
       "       Mac Sales (in million units)  Wearables (in million units)  \\\n",
       "count                   1000.000000                   1000.000000   \n",
       "mean                       5.555760                      6.935500   \n",
       "std                        2.506491                      2.951677   \n",
       "min                        1.010000                      2.000000   \n",
       "25%                        3.470000                      4.330000   \n",
       "50%                        5.550000                      6.815000   \n",
       "75%                        7.730000                      9.532500   \n",
       "max                        9.990000                     12.000000   \n",
       "\n",
       "       Services Revenue (in billion $)  \n",
       "count                      1000.000000  \n",
       "mean                         12.447130  \n",
       "std                           4.306347  \n",
       "min                           5.010000  \n",
       "25%                           8.710000  \n",
       "50%                          12.205000  \n",
       "75%                          16.252500  \n",
       "max                          19.920000  "
      ]
     },
     "execution_count": 8,
     "metadata": {},
     "output_type": "execute_result"
    }
   ],
   "source": [
    "k.describe() #------->Displays Statistical measure"
   ]
  },
  {
   "cell_type": "code",
   "execution_count": 9,
   "id": "f23aa6d3-c94b-4889-862c-252dbe9a8b89",
   "metadata": {},
   "outputs": [
    {
     "data": {
      "text/plain": [
       "State                              1000\n",
       "Region                             1000\n",
       "iPhone Sales (in million units)    1000\n",
       "iPad Sales (in million units)      1000\n",
       "Mac Sales (in million units)       1000\n",
       "Wearables (in million units)       1000\n",
       "Services Revenue (in billion $)    1000\n",
       "dtype: int64"
      ]
     },
     "execution_count": 9,
     "metadata": {},
     "output_type": "execute_result"
    }
   ],
   "source": [
    "k.count() #----------> Number of rows in each column"
   ]
  },
  {
   "cell_type": "code",
   "execution_count": 11,
   "id": "0a8c06ac-2327-40b7-b8e4-658f192c6afd",
   "metadata": {},
   "outputs": [
    {
     "data": {
      "text/plain": [
       "Index(['State', 'Region', 'iPhone Sales (in million units)',\n",
       "       'iPad Sales (in million units)', 'Mac Sales (in million units)',\n",
       "       'Wearables (in million units)', 'Services Revenue (in billion $)'],\n",
       "      dtype='object')"
      ]
     },
     "execution_count": 11,
     "metadata": {},
     "output_type": "execute_result"
    }
   ],
   "source": [
    "k.columns #------> Displays all columns"
   ]
  },
  {
   "cell_type": "code",
   "execution_count": 12,
   "id": "146acb25-2e71-4c24-8568-f1e7cd9ab6f0",
   "metadata": {},
   "outputs": [
    {
     "ename": "AttributeError",
     "evalue": "'DataFrame' object has no attribute 'show'",
     "output_type": "error",
     "traceback": [
      "\u001b[1;31m---------------------------------------------------------------------------\u001b[0m",
      "\u001b[1;31mAttributeError\u001b[0m                            Traceback (most recent call last)",
      "\u001b[1;32m~\\AppData\\Local\\Temp\\ipykernel_9248\\1127764014.py\u001b[0m in \u001b[0;36m?\u001b[1;34m()\u001b[0m\n\u001b[1;32m----> 1\u001b[1;33m \u001b[0mk\u001b[0m\u001b[1;33m.\u001b[0m\u001b[0mshow\u001b[0m\u001b[1;33m(\u001b[0m\u001b[1;33m)\u001b[0m\u001b[1;33m\u001b[0m\u001b[1;33m\u001b[0m\u001b[0m\n\u001b[0m",
      "\u001b[1;32mC:\\Anaconda\\Lib\\site-packages\\pandas\\core\\generic.py\u001b[0m in \u001b[0;36m?\u001b[1;34m(self, name)\u001b[0m\n\u001b[0;32m   6295\u001b[0m             \u001b[1;32mand\u001b[0m \u001b[0mname\u001b[0m \u001b[1;32mnot\u001b[0m \u001b[1;32min\u001b[0m \u001b[0mself\u001b[0m\u001b[1;33m.\u001b[0m\u001b[0m_accessors\u001b[0m\u001b[1;33m\u001b[0m\u001b[1;33m\u001b[0m\u001b[0m\n\u001b[0;32m   6296\u001b[0m             \u001b[1;32mand\u001b[0m \u001b[0mself\u001b[0m\u001b[1;33m.\u001b[0m\u001b[0m_info_axis\u001b[0m\u001b[1;33m.\u001b[0m\u001b[0m_can_hold_identifiers_and_holds_name\u001b[0m\u001b[1;33m(\u001b[0m\u001b[0mname\u001b[0m\u001b[1;33m)\u001b[0m\u001b[1;33m\u001b[0m\u001b[1;33m\u001b[0m\u001b[0m\n\u001b[0;32m   6297\u001b[0m         \u001b[1;33m)\u001b[0m\u001b[1;33m:\u001b[0m\u001b[1;33m\u001b[0m\u001b[1;33m\u001b[0m\u001b[0m\n\u001b[0;32m   6298\u001b[0m             \u001b[1;32mreturn\u001b[0m \u001b[0mself\u001b[0m\u001b[1;33m[\u001b[0m\u001b[0mname\u001b[0m\u001b[1;33m]\u001b[0m\u001b[1;33m\u001b[0m\u001b[1;33m\u001b[0m\u001b[0m\n\u001b[1;32m-> 6299\u001b[1;33m         \u001b[1;32mreturn\u001b[0m \u001b[0mobject\u001b[0m\u001b[1;33m.\u001b[0m\u001b[0m__getattribute__\u001b[0m\u001b[1;33m(\u001b[0m\u001b[0mself\u001b[0m\u001b[1;33m,\u001b[0m \u001b[0mname\u001b[0m\u001b[1;33m)\u001b[0m\u001b[1;33m\u001b[0m\u001b[1;33m\u001b[0m\u001b[0m\n\u001b[0m",
      "\u001b[1;31mAttributeError\u001b[0m: 'DataFrame' object has no attribute 'show'"
     ]
    }
   ],
   "source": [
    "k.show()"
   ]
  },
  {
   "cell_type": "code",
   "execution_count": 13,
   "id": "f75bba6f-4801-40ce-8302-d701d2b7517a",
   "metadata": {},
   "outputs": [
    {
     "data": {
      "text/plain": [
       "(1000, 7)"
      ]
     },
     "execution_count": 13,
     "metadata": {},
     "output_type": "execute_result"
    }
   ],
   "source": [
    "k.shape #---------> displays number of rows and columns in the dataset"
   ]
  },
  {
   "cell_type": "code",
   "execution_count": 15,
   "id": "ab6a0fe7-d566-4b1e-814f-799d1cc4e8ea",
   "metadata": {},
   "outputs": [
    {
     "data": {
      "text/plain": [
       "array(['Chongqing', 'Germany', 'UK', 'Shanghai', 'Thailand', 'New York',\n",
       "       'Mexico', 'Italy', 'Hong Kong', 'Canada', 'Japan', 'Spain',\n",
       "       'Australia', 'Beijing', 'India', 'Texas', 'California',\n",
       "       'South Africa', 'Brazil', 'Florida', 'Illinois', 'South Korea',\n",
       "       'Indonesia', 'Shenzhen', 'France'], dtype=object)"
      ]
     },
     "execution_count": 15,
     "metadata": {},
     "output_type": "execute_result"
    }
   ],
   "source": [
    "k[\"State\"].unique()"
   ]
  },
  {
   "cell_type": "code",
   "execution_count": 16,
   "id": "1ff797e2-b080-47c7-a636-8fb2f2e97bcc",
   "metadata": {},
   "outputs": [
    {
     "data": {
      "text/plain": [
       "25"
      ]
     },
     "execution_count": 16,
     "metadata": {},
     "output_type": "execute_result"
    }
   ],
   "source": [
    "k[\"State\"].nunique()"
   ]
  },
  {
   "cell_type": "code",
   "execution_count": 18,
   "id": "591734dd-6b17-48ad-a3e2-2822476c2bb8",
   "metadata": {},
   "outputs": [
    {
     "data": {
      "text/plain": [
       "State\n",
       "Hong Kong       50\n",
       "UK              47\n",
       "South Africa    47\n",
       "California      47\n",
       "Canada          46\n",
       "Brazil          46\n",
       "Australia       43\n",
       "Shenzhen        43\n",
       "Beijing         43\n",
       "France          43\n",
       "Shanghai        43\n",
       "Japan           40\n",
       "Chongqing       40\n",
       "Spain           39\n",
       "Mexico          39\n",
       "Italy           38\n",
       "Indonesia       38\n",
       "Germany         37\n",
       "New York        37\n",
       "Illinois        35\n",
       "South Korea     34\n",
       "India           33\n",
       "Texas           33\n",
       "Thailand        33\n",
       "Florida         26\n",
       "Name: count, dtype: int64"
      ]
     },
     "execution_count": 18,
     "metadata": {},
     "output_type": "execute_result"
    }
   ],
   "source": [
    "k[\"State\"].value_counts()"
   ]
  },
  {
   "cell_type": "code",
   "execution_count": 19,
   "id": "dc7ed873-b363-46fa-9336-dc8461a4cb9e",
   "metadata": {},
   "outputs": [
    {
     "data": {
      "text/plain": [
       "0      Chongqing\n",
       "1        Germany\n",
       "2             UK\n",
       "3       Shanghai\n",
       "4       Thailand\n",
       "         ...    \n",
       "995       Mexico\n",
       "996        Texas\n",
       "997      Germany\n",
       "998     Shenzhen\n",
       "999     Shanghai\n",
       "Name: State, Length: 1000, dtype: object"
      ]
     },
     "execution_count": 19,
     "metadata": {},
     "output_type": "execute_result"
    }
   ],
   "source": [
    "k[\"State\"]"
   ]
  },
  {
   "cell_type": "code",
   "execution_count": 22,
   "id": "0532918c-317a-402e-ad20-a97aa821f8b3",
   "metadata": {},
   "outputs": [
    {
     "data": {
      "text/plain": [
       "State                               25\n",
       "Region                               5\n",
       "iPhone Sales (in million units)    824\n",
       "iPad Sales (in million units)      692\n",
       "Mac Sales (in million units)       595\n",
       "Wearables (in million units)       639\n",
       "Services Revenue (in billion $)    741\n",
       "dtype: int64"
      ]
     },
     "execution_count": 22,
     "metadata": {},
     "output_type": "execute_result"
    }
   ],
   "source": [
    "k.nunique()"
   ]
  },
  {
   "cell_type": "code",
   "execution_count": 27,
   "id": "5aaf70ee-3f80-4362-8b9c-8613e8b2780a",
   "metadata": {},
   "outputs": [
    {
     "data": {
      "text/plain": [
       "State                               object\n",
       "Region                              object\n",
       "iPhone Sales (in million units)    float64\n",
       "iPad Sales (in million units)      float64\n",
       "Mac Sales (in million units)       float64\n",
       "Wearables (in million units)       float64\n",
       "Services Revenue (in billion $)    float64\n",
       "dtype: object"
      ]
     },
     "execution_count": 27,
     "metadata": {},
     "output_type": "execute_result"
    }
   ],
   "source": [
    "k.dtypes"
   ]
  },
  {
   "cell_type": "code",
   "execution_count": 28,
   "id": "c9c4b8d1-dd77-47d6-8e72-726db0b837ee",
   "metadata": {},
   "outputs": [
    {
     "data": {
      "text/html": [
       "<div>\n",
       "<style scoped>\n",
       "    .dataframe tbody tr th:only-of-type {\n",
       "        vertical-align: middle;\n",
       "    }\n",
       "\n",
       "    .dataframe tbody tr th {\n",
       "        vertical-align: top;\n",
       "    }\n",
       "\n",
       "    .dataframe thead th {\n",
       "        text-align: right;\n",
       "    }\n",
       "</style>\n",
       "<table border=\"1\" class=\"dataframe\">\n",
       "  <thead>\n",
       "    <tr style=\"text-align: right;\">\n",
       "      <th></th>\n",
       "      <th>State</th>\n",
       "      <th>Region</th>\n",
       "      <th>iPhone Sales (in million units)</th>\n",
       "      <th>iPad Sales (in million units)</th>\n",
       "      <th>Mac Sales (in million units)</th>\n",
       "      <th>Wearables (in million units)</th>\n",
       "      <th>Services Revenue (in billion $)</th>\n",
       "    </tr>\n",
       "  </thead>\n",
       "  <tbody>\n",
       "    <tr>\n",
       "      <th>666</th>\n",
       "      <td>Beijing</td>\n",
       "      <td>Greater China</td>\n",
       "      <td>10.44</td>\n",
       "      <td>14.65</td>\n",
       "      <td>8.78</td>\n",
       "      <td>4.15</td>\n",
       "      <td>13.03</td>\n",
       "    </tr>\n",
       "    <tr>\n",
       "      <th>878</th>\n",
       "      <td>Shenzhen</td>\n",
       "      <td>Greater China</td>\n",
       "      <td>29.78</td>\n",
       "      <td>9.05</td>\n",
       "      <td>2.12</td>\n",
       "      <td>8.13</td>\n",
       "      <td>14.84</td>\n",
       "    </tr>\n",
       "    <tr>\n",
       "      <th>477</th>\n",
       "      <td>Brazil</td>\n",
       "      <td>Rest of World</td>\n",
       "      <td>21.18</td>\n",
       "      <td>5.25</td>\n",
       "      <td>7.02</td>\n",
       "      <td>7.88</td>\n",
       "      <td>14.39</td>\n",
       "    </tr>\n",
       "    <tr>\n",
       "      <th>413</th>\n",
       "      <td>Illinois</td>\n",
       "      <td>North America</td>\n",
       "      <td>12.92</td>\n",
       "      <td>12.04</td>\n",
       "      <td>3.07</td>\n",
       "      <td>10.97</td>\n",
       "      <td>6.41</td>\n",
       "    </tr>\n",
       "    <tr>\n",
       "      <th>960</th>\n",
       "      <td>Japan</td>\n",
       "      <td>Rest of Asia</td>\n",
       "      <td>13.83</td>\n",
       "      <td>8.04</td>\n",
       "      <td>7.56</td>\n",
       "      <td>2.75</td>\n",
       "      <td>16.86</td>\n",
       "    </tr>\n",
       "    <tr>\n",
       "      <th>277</th>\n",
       "      <td>Texas</td>\n",
       "      <td>North America</td>\n",
       "      <td>13.32</td>\n",
       "      <td>14.24</td>\n",
       "      <td>3.42</td>\n",
       "      <td>11.94</td>\n",
       "      <td>19.45</td>\n",
       "    </tr>\n",
       "    <tr>\n",
       "      <th>22</th>\n",
       "      <td>India</td>\n",
       "      <td>Rest of Asia</td>\n",
       "      <td>23.69</td>\n",
       "      <td>2.77</td>\n",
       "      <td>3.90</td>\n",
       "      <td>6.84</td>\n",
       "      <td>13.07</td>\n",
       "    </tr>\n",
       "    <tr>\n",
       "      <th>442</th>\n",
       "      <td>South Korea</td>\n",
       "      <td>Rest of Asia</td>\n",
       "      <td>13.25</td>\n",
       "      <td>12.38</td>\n",
       "      <td>5.20</td>\n",
       "      <td>7.62</td>\n",
       "      <td>5.28</td>\n",
       "    </tr>\n",
       "    <tr>\n",
       "      <th>980</th>\n",
       "      <td>Shanghai</td>\n",
       "      <td>Greater China</td>\n",
       "      <td>11.01</td>\n",
       "      <td>11.05</td>\n",
       "      <td>3.33</td>\n",
       "      <td>11.64</td>\n",
       "      <td>11.95</td>\n",
       "    </tr>\n",
       "    <tr>\n",
       "      <th>821</th>\n",
       "      <td>Italy</td>\n",
       "      <td>Europe</td>\n",
       "      <td>11.87</td>\n",
       "      <td>6.55</td>\n",
       "      <td>8.27</td>\n",
       "      <td>3.15</td>\n",
       "      <td>5.51</td>\n",
       "    </tr>\n",
       "  </tbody>\n",
       "</table>\n",
       "</div>"
      ],
      "text/plain": [
       "           State         Region  iPhone Sales (in million units)  \\\n",
       "666      Beijing  Greater China                            10.44   \n",
       "878     Shenzhen  Greater China                            29.78   \n",
       "477       Brazil  Rest of World                            21.18   \n",
       "413     Illinois  North America                            12.92   \n",
       "960        Japan   Rest of Asia                            13.83   \n",
       "277        Texas  North America                            13.32   \n",
       "22         India   Rest of Asia                            23.69   \n",
       "442  South Korea   Rest of Asia                            13.25   \n",
       "980     Shanghai  Greater China                            11.01   \n",
       "821        Italy         Europe                            11.87   \n",
       "\n",
       "     iPad Sales (in million units)  Mac Sales (in million units)  \\\n",
       "666                          14.65                          8.78   \n",
       "878                           9.05                          2.12   \n",
       "477                           5.25                          7.02   \n",
       "413                          12.04                          3.07   \n",
       "960                           8.04                          7.56   \n",
       "277                          14.24                          3.42   \n",
       "22                            2.77                          3.90   \n",
       "442                          12.38                          5.20   \n",
       "980                          11.05                          3.33   \n",
       "821                           6.55                          8.27   \n",
       "\n",
       "     Wearables (in million units)  Services Revenue (in billion $)  \n",
       "666                          4.15                            13.03  \n",
       "878                          8.13                            14.84  \n",
       "477                          7.88                            14.39  \n",
       "413                         10.97                             6.41  \n",
       "960                          2.75                            16.86  \n",
       "277                         11.94                            19.45  \n",
       "22                           6.84                            13.07  \n",
       "442                          7.62                             5.28  \n",
       "980                         11.64                            11.95  \n",
       "821                          3.15                             5.51  "
      ]
     },
     "execution_count": 28,
     "metadata": {},
     "output_type": "execute_result"
    }
   ],
   "source": [
    "k.sample(10)"
   ]
  },
  {
   "cell_type": "code",
   "execution_count": 30,
   "id": "fbca2294-ec4a-4df2-87d5-8a37204ca20d",
   "metadata": {},
   "outputs": [
    {
     "data": {
      "text/html": [
       "<div>\n",
       "<style scoped>\n",
       "    .dataframe tbody tr th:only-of-type {\n",
       "        vertical-align: middle;\n",
       "    }\n",
       "\n",
       "    .dataframe tbody tr th {\n",
       "        vertical-align: top;\n",
       "    }\n",
       "\n",
       "    .dataframe thead th {\n",
       "        text-align: right;\n",
       "    }\n",
       "</style>\n",
       "<table border=\"1\" class=\"dataframe\">\n",
       "  <thead>\n",
       "    <tr style=\"text-align: right;\">\n",
       "      <th></th>\n",
       "      <th>State</th>\n",
       "      <th>Region</th>\n",
       "    </tr>\n",
       "  </thead>\n",
       "  <tbody>\n",
       "    <tr>\n",
       "      <th>0</th>\n",
       "      <td>Chongqing</td>\n",
       "      <td>Greater China</td>\n",
       "    </tr>\n",
       "    <tr>\n",
       "      <th>1</th>\n",
       "      <td>Germany</td>\n",
       "      <td>Europe</td>\n",
       "    </tr>\n",
       "    <tr>\n",
       "      <th>2</th>\n",
       "      <td>UK</td>\n",
       "      <td>Europe</td>\n",
       "    </tr>\n",
       "    <tr>\n",
       "      <th>3</th>\n",
       "      <td>Shanghai</td>\n",
       "      <td>Greater China</td>\n",
       "    </tr>\n",
       "    <tr>\n",
       "      <th>4</th>\n",
       "      <td>Thailand</td>\n",
       "      <td>Rest of Asia</td>\n",
       "    </tr>\n",
       "    <tr>\n",
       "      <th>...</th>\n",
       "      <td>...</td>\n",
       "      <td>...</td>\n",
       "    </tr>\n",
       "    <tr>\n",
       "      <th>995</th>\n",
       "      <td>Mexico</td>\n",
       "      <td>Rest of World</td>\n",
       "    </tr>\n",
       "    <tr>\n",
       "      <th>996</th>\n",
       "      <td>Texas</td>\n",
       "      <td>North America</td>\n",
       "    </tr>\n",
       "    <tr>\n",
       "      <th>997</th>\n",
       "      <td>Germany</td>\n",
       "      <td>Europe</td>\n",
       "    </tr>\n",
       "    <tr>\n",
       "      <th>998</th>\n",
       "      <td>Shenzhen</td>\n",
       "      <td>Greater China</td>\n",
       "    </tr>\n",
       "    <tr>\n",
       "      <th>999</th>\n",
       "      <td>Shanghai</td>\n",
       "      <td>Greater China</td>\n",
       "    </tr>\n",
       "  </tbody>\n",
       "</table>\n",
       "<p>1000 rows × 2 columns</p>\n",
       "</div>"
      ],
      "text/plain": [
       "         State         Region\n",
       "0    Chongqing  Greater China\n",
       "1      Germany         Europe\n",
       "2           UK         Europe\n",
       "3     Shanghai  Greater China\n",
       "4     Thailand   Rest of Asia\n",
       "..         ...            ...\n",
       "995     Mexico  Rest of World\n",
       "996      Texas  North America\n",
       "997    Germany         Europe\n",
       "998   Shenzhen  Greater China\n",
       "999   Shanghai  Greater China\n",
       "\n",
       "[1000 rows x 2 columns]"
      ]
     },
     "execution_count": 30,
     "metadata": {},
     "output_type": "execute_result"
    }
   ],
   "source": [
    "k[[\"State\",\"Region\"]]"
   ]
  },
  {
   "cell_type": "code",
   "execution_count": 32,
   "id": "06793d2d-55bc-4582-b04a-67a41433491e",
   "metadata": {},
   "outputs": [
    {
     "data": {
      "text/plain": [
       "State     25\n",
       "Region     5\n",
       "dtype: int64"
      ]
     },
     "execution_count": 32,
     "metadata": {},
     "output_type": "execute_result"
    }
   ],
   "source": [
    "k[[\"State\",\"Region\"]].nunique()"
   ]
  },
  {
   "cell_type": "code",
   "execution_count": 33,
   "id": "a52f573e-025f-40bb-a1c0-359ac98f6382",
   "metadata": {},
   "outputs": [
    {
     "data": {
      "text/html": [
       "<div>\n",
       "<style scoped>\n",
       "    .dataframe tbody tr th:only-of-type {\n",
       "        vertical-align: middle;\n",
       "    }\n",
       "\n",
       "    .dataframe tbody tr th {\n",
       "        vertical-align: top;\n",
       "    }\n",
       "\n",
       "    .dataframe thead th {\n",
       "        text-align: right;\n",
       "    }\n",
       "</style>\n",
       "<table border=\"1\" class=\"dataframe\">\n",
       "  <thead>\n",
       "    <tr style=\"text-align: right;\">\n",
       "      <th></th>\n",
       "      <th>State</th>\n",
       "      <th>Region</th>\n",
       "      <th>iPhone Sales (in million units)</th>\n",
       "      <th>iPad Sales (in million units)</th>\n",
       "      <th>Mac Sales (in million units)</th>\n",
       "      <th>Wearables (in million units)</th>\n",
       "      <th>Services Revenue (in billion $)</th>\n",
       "    </tr>\n",
       "  </thead>\n",
       "  <tbody>\n",
       "    <tr>\n",
       "      <th>0</th>\n",
       "      <td>False</td>\n",
       "      <td>False</td>\n",
       "      <td>False</td>\n",
       "      <td>False</td>\n",
       "      <td>False</td>\n",
       "      <td>False</td>\n",
       "      <td>False</td>\n",
       "    </tr>\n",
       "    <tr>\n",
       "      <th>1</th>\n",
       "      <td>False</td>\n",
       "      <td>False</td>\n",
       "      <td>False</td>\n",
       "      <td>False</td>\n",
       "      <td>False</td>\n",
       "      <td>False</td>\n",
       "      <td>False</td>\n",
       "    </tr>\n",
       "    <tr>\n",
       "      <th>2</th>\n",
       "      <td>False</td>\n",
       "      <td>False</td>\n",
       "      <td>False</td>\n",
       "      <td>False</td>\n",
       "      <td>False</td>\n",
       "      <td>False</td>\n",
       "      <td>False</td>\n",
       "    </tr>\n",
       "    <tr>\n",
       "      <th>3</th>\n",
       "      <td>False</td>\n",
       "      <td>False</td>\n",
       "      <td>False</td>\n",
       "      <td>False</td>\n",
       "      <td>False</td>\n",
       "      <td>False</td>\n",
       "      <td>False</td>\n",
       "    </tr>\n",
       "    <tr>\n",
       "      <th>4</th>\n",
       "      <td>False</td>\n",
       "      <td>False</td>\n",
       "      <td>False</td>\n",
       "      <td>False</td>\n",
       "      <td>False</td>\n",
       "      <td>False</td>\n",
       "      <td>False</td>\n",
       "    </tr>\n",
       "    <tr>\n",
       "      <th>...</th>\n",
       "      <td>...</td>\n",
       "      <td>...</td>\n",
       "      <td>...</td>\n",
       "      <td>...</td>\n",
       "      <td>...</td>\n",
       "      <td>...</td>\n",
       "      <td>...</td>\n",
       "    </tr>\n",
       "    <tr>\n",
       "      <th>995</th>\n",
       "      <td>False</td>\n",
       "      <td>False</td>\n",
       "      <td>False</td>\n",
       "      <td>False</td>\n",
       "      <td>False</td>\n",
       "      <td>False</td>\n",
       "      <td>False</td>\n",
       "    </tr>\n",
       "    <tr>\n",
       "      <th>996</th>\n",
       "      <td>False</td>\n",
       "      <td>False</td>\n",
       "      <td>False</td>\n",
       "      <td>False</td>\n",
       "      <td>False</td>\n",
       "      <td>False</td>\n",
       "      <td>False</td>\n",
       "    </tr>\n",
       "    <tr>\n",
       "      <th>997</th>\n",
       "      <td>False</td>\n",
       "      <td>False</td>\n",
       "      <td>False</td>\n",
       "      <td>False</td>\n",
       "      <td>False</td>\n",
       "      <td>False</td>\n",
       "      <td>False</td>\n",
       "    </tr>\n",
       "    <tr>\n",
       "      <th>998</th>\n",
       "      <td>False</td>\n",
       "      <td>False</td>\n",
       "      <td>False</td>\n",
       "      <td>False</td>\n",
       "      <td>False</td>\n",
       "      <td>False</td>\n",
       "      <td>False</td>\n",
       "    </tr>\n",
       "    <tr>\n",
       "      <th>999</th>\n",
       "      <td>False</td>\n",
       "      <td>False</td>\n",
       "      <td>False</td>\n",
       "      <td>False</td>\n",
       "      <td>False</td>\n",
       "      <td>False</td>\n",
       "      <td>False</td>\n",
       "    </tr>\n",
       "  </tbody>\n",
       "</table>\n",
       "<p>1000 rows × 7 columns</p>\n",
       "</div>"
      ],
      "text/plain": [
       "     State  Region  iPhone Sales (in million units)  \\\n",
       "0    False   False                            False   \n",
       "1    False   False                            False   \n",
       "2    False   False                            False   \n",
       "3    False   False                            False   \n",
       "4    False   False                            False   \n",
       "..     ...     ...                              ...   \n",
       "995  False   False                            False   \n",
       "996  False   False                            False   \n",
       "997  False   False                            False   \n",
       "998  False   False                            False   \n",
       "999  False   False                            False   \n",
       "\n",
       "     iPad Sales (in million units)  Mac Sales (in million units)  \\\n",
       "0                            False                         False   \n",
       "1                            False                         False   \n",
       "2                            False                         False   \n",
       "3                            False                         False   \n",
       "4                            False                         False   \n",
       "..                             ...                           ...   \n",
       "995                          False                         False   \n",
       "996                          False                         False   \n",
       "997                          False                         False   \n",
       "998                          False                         False   \n",
       "999                          False                         False   \n",
       "\n",
       "     Wearables (in million units)  Services Revenue (in billion $)  \n",
       "0                           False                            False  \n",
       "1                           False                            False  \n",
       "2                           False                            False  \n",
       "3                           False                            False  \n",
       "4                           False                            False  \n",
       "..                            ...                              ...  \n",
       "995                         False                            False  \n",
       "996                         False                            False  \n",
       "997                         False                            False  \n",
       "998                         False                            False  \n",
       "999                         False                            False  \n",
       "\n",
       "[1000 rows x 7 columns]"
      ]
     },
     "execution_count": 33,
     "metadata": {},
     "output_type": "execute_result"
    }
   ],
   "source": [
    "k.isnull()"
   ]
  },
  {
   "cell_type": "code",
   "execution_count": 34,
   "id": "6ca8e88b-a46f-4190-93b9-15d20bc3d0ec",
   "metadata": {},
   "outputs": [
    {
     "data": {
      "text/plain": [
       "State                              0\n",
       "Region                             0\n",
       "iPhone Sales (in million units)    0\n",
       "iPad Sales (in million units)      0\n",
       "Mac Sales (in million units)       0\n",
       "Wearables (in million units)       0\n",
       "Services Revenue (in billion $)    0\n",
       "dtype: int64"
      ]
     },
     "execution_count": 34,
     "metadata": {},
     "output_type": "execute_result"
    }
   ],
   "source": [
    "k.isnull().sum()"
   ]
  },
  {
   "cell_type": "code",
   "execution_count": 6,
   "id": "d1200886-2509-4838-b19c-ab2b05f37ee8",
   "metadata": {},
   "outputs": [
    {
     "data": {
      "text/plain": [
       "iPad Sales (in million units)\n",
       "2.02      2.02\n",
       "2.04      2.04\n",
       "2.05      2.05\n",
       "2.07      4.14\n",
       "2.08      2.08\n",
       "         ...  \n",
       "14.95    14.95\n",
       "14.96    14.96\n",
       "14.97    14.97\n",
       "14.98    29.96\n",
       "14.99    44.97\n",
       "Name: iPad Sales (in million units), Length: 692, dtype: float64"
      ]
     },
     "execution_count": 6,
     "metadata": {},
     "output_type": "execute_result"
    }
   ],
   "source": [
    "grp=k.groupby(\"iPad Sales (in million units)\")\n",
    "grp[\"iPad Sales (in million units)\"].sum()"
   ]
  },
  {
   "cell_type": "code",
   "execution_count": 7,
   "id": "e6631bc6-9070-4748-89da-1cfaf3c69d83",
   "metadata": {},
   "outputs": [
    {
     "data": {
      "text/html": [
       "<div>\n",
       "<style scoped>\n",
       "    .dataframe tbody tr th:only-of-type {\n",
       "        vertical-align: middle;\n",
       "    }\n",
       "\n",
       "    .dataframe tbody tr th {\n",
       "        vertical-align: top;\n",
       "    }\n",
       "\n",
       "    .dataframe thead th {\n",
       "        text-align: right;\n",
       "    }\n",
       "</style>\n",
       "<table border=\"1\" class=\"dataframe\">\n",
       "  <thead>\n",
       "    <tr style=\"text-align: right;\">\n",
       "      <th></th>\n",
       "      <th>State</th>\n",
       "      <th>Region</th>\n",
       "      <th>iPhone Sales (in million units)</th>\n",
       "      <th>iPad Sales (in million units)</th>\n",
       "      <th>Mac Sales (in million units)</th>\n",
       "      <th>Wearables (in million units)</th>\n",
       "      <th>Services Revenue (in billion $)</th>\n",
       "    </tr>\n",
       "  </thead>\n",
       "  <tbody>\n",
       "    <tr>\n",
       "      <th>274</th>\n",
       "      <td>UK</td>\n",
       "      <td>Europe</td>\n",
       "      <td>14.66</td>\n",
       "      <td>2.02</td>\n",
       "      <td>4.01</td>\n",
       "      <td>3.18</td>\n",
       "      <td>7.72</td>\n",
       "    </tr>\n",
       "    <tr>\n",
       "      <th>412</th>\n",
       "      <td>Indonesia</td>\n",
       "      <td>Rest of Asia</td>\n",
       "      <td>20.15</td>\n",
       "      <td>2.04</td>\n",
       "      <td>4.48</td>\n",
       "      <td>10.21</td>\n",
       "      <td>18.62</td>\n",
       "    </tr>\n",
       "    <tr>\n",
       "      <th>958</th>\n",
       "      <td>France</td>\n",
       "      <td>Europe</td>\n",
       "      <td>19.49</td>\n",
       "      <td>2.05</td>\n",
       "      <td>4.03</td>\n",
       "      <td>10.59</td>\n",
       "      <td>12.40</td>\n",
       "    </tr>\n",
       "    <tr>\n",
       "      <th>336</th>\n",
       "      <td>Illinois</td>\n",
       "      <td>North America</td>\n",
       "      <td>16.35</td>\n",
       "      <td>2.07</td>\n",
       "      <td>3.84</td>\n",
       "      <td>5.07</td>\n",
       "      <td>15.07</td>\n",
       "    </tr>\n",
       "    <tr>\n",
       "      <th>866</th>\n",
       "      <td>Indonesia</td>\n",
       "      <td>Rest of Asia</td>\n",
       "      <td>29.92</td>\n",
       "      <td>2.07</td>\n",
       "      <td>5.05</td>\n",
       "      <td>2.68</td>\n",
       "      <td>8.50</td>\n",
       "    </tr>\n",
       "    <tr>\n",
       "      <th>...</th>\n",
       "      <td>...</td>\n",
       "      <td>...</td>\n",
       "      <td>...</td>\n",
       "      <td>...</td>\n",
       "      <td>...</td>\n",
       "      <td>...</td>\n",
       "      <td>...</td>\n",
       "    </tr>\n",
       "    <tr>\n",
       "      <th>598</th>\n",
       "      <td>Illinois</td>\n",
       "      <td>North America</td>\n",
       "      <td>12.35</td>\n",
       "      <td>14.98</td>\n",
       "      <td>2.82</td>\n",
       "      <td>5.48</td>\n",
       "      <td>13.37</td>\n",
       "    </tr>\n",
       "    <tr>\n",
       "      <th>419</th>\n",
       "      <td>Germany</td>\n",
       "      <td>Europe</td>\n",
       "      <td>8.24</td>\n",
       "      <td>14.98</td>\n",
       "      <td>2.78</td>\n",
       "      <td>7.55</td>\n",
       "      <td>17.75</td>\n",
       "    </tr>\n",
       "    <tr>\n",
       "      <th>841</th>\n",
       "      <td>Canada</td>\n",
       "      <td>Rest of World</td>\n",
       "      <td>25.48</td>\n",
       "      <td>14.99</td>\n",
       "      <td>4.38</td>\n",
       "      <td>5.75</td>\n",
       "      <td>19.14</td>\n",
       "    </tr>\n",
       "    <tr>\n",
       "      <th>795</th>\n",
       "      <td>Shenzhen</td>\n",
       "      <td>Greater China</td>\n",
       "      <td>17.34</td>\n",
       "      <td>14.99</td>\n",
       "      <td>4.76</td>\n",
       "      <td>7.99</td>\n",
       "      <td>13.08</td>\n",
       "    </tr>\n",
       "    <tr>\n",
       "      <th>760</th>\n",
       "      <td>Chongqing</td>\n",
       "      <td>Greater China</td>\n",
       "      <td>24.55</td>\n",
       "      <td>14.99</td>\n",
       "      <td>4.45</td>\n",
       "      <td>2.41</td>\n",
       "      <td>8.94</td>\n",
       "    </tr>\n",
       "  </tbody>\n",
       "</table>\n",
       "<p>1000 rows × 7 columns</p>\n",
       "</div>"
      ],
      "text/plain": [
       "         State         Region  iPhone Sales (in million units)  \\\n",
       "274         UK         Europe                            14.66   \n",
       "412  Indonesia   Rest of Asia                            20.15   \n",
       "958     France         Europe                            19.49   \n",
       "336   Illinois  North America                            16.35   \n",
       "866  Indonesia   Rest of Asia                            29.92   \n",
       "..         ...            ...                              ...   \n",
       "598   Illinois  North America                            12.35   \n",
       "419    Germany         Europe                             8.24   \n",
       "841     Canada  Rest of World                            25.48   \n",
       "795   Shenzhen  Greater China                            17.34   \n",
       "760  Chongqing  Greater China                            24.55   \n",
       "\n",
       "     iPad Sales (in million units)  Mac Sales (in million units)  \\\n",
       "274                           2.02                          4.01   \n",
       "412                           2.04                          4.48   \n",
       "958                           2.05                          4.03   \n",
       "336                           2.07                          3.84   \n",
       "866                           2.07                          5.05   \n",
       "..                             ...                           ...   \n",
       "598                          14.98                          2.82   \n",
       "419                          14.98                          2.78   \n",
       "841                          14.99                          4.38   \n",
       "795                          14.99                          4.76   \n",
       "760                          14.99                          4.45   \n",
       "\n",
       "     Wearables (in million units)  Services Revenue (in billion $)  \n",
       "274                          3.18                             7.72  \n",
       "412                         10.21                            18.62  \n",
       "958                         10.59                            12.40  \n",
       "336                          5.07                            15.07  \n",
       "866                          2.68                             8.50  \n",
       "..                            ...                              ...  \n",
       "598                          5.48                            13.37  \n",
       "419                          7.55                            17.75  \n",
       "841                          5.75                            19.14  \n",
       "795                          7.99                            13.08  \n",
       "760                          2.41                             8.94  \n",
       "\n",
       "[1000 rows x 7 columns]"
      ]
     },
     "execution_count": 7,
     "metadata": {},
     "output_type": "execute_result"
    }
   ],
   "source": [
    "k.sort_values(\"iPad Sales (in million units)\",ascending=True)"
   ]
  },
  {
   "cell_type": "code",
   "execution_count": 12,
   "id": "2981c9fc-a8ed-483d-b7b6-6e54e7649a72",
   "metadata": {},
   "outputs": [
    {
     "data": {
      "text/plain": [
       "<Axes: xlabel='iPhone Sales (in million units)'>"
      ]
     },
     "execution_count": 12,
     "metadata": {},
     "output_type": "execute_result"
    },
    {
     "data": {
      "image/png": "[encoded data removed]",
      "text/plain": [
       "<Figure size 640x480 with 1 Axes>"
      ]
     },
     "metadata": {},
     "output_type": "display_data"
    }
   ],
   "source": [
    "k.plot(x=\"iPhone Sales (in million units)\",y=\"iPad Sales (in million units)\",kind=\"bar\")"
   ]
  },
  {
   "cell_type": "code",
   "execution_count": 13,
   "id": "c4dee4eb-068d-4201-80eb-77c2c68bf2a5",
   "metadata": {},
   "outputs": [
    {
     "data": {
      "text/plain": [
       "14.99"
      ]
     },
     "execution_count": 13,
     "metadata": {},
     "output_type": "execute_result"
    }
   ],
   "source": [
    "k[\"iPad Sales (in million units)\"].max()"
   ]
  },
  {
   "cell_type": "code",
   "execution_count": 14,
   "id": "8d39d071-4751-4a60-9e3b-1139248b4621",
   "metadata": {},
   "outputs": [
    {
     "data": {
      "text/plain": [
       "2.02"
      ]
     },
     "execution_count": 14,
     "metadata": {},
     "output_type": "execute_result"
    }
   ],
   "source": [
    "k[\"iPad Sales (in million units)\"].min()"
   ]
  },
  {
   "cell_type": "code",
   "execution_count": 15,
   "id": "12dc6977-5232-4ca0-963c-2e25f8a8a153",
   "metadata": {},
   "outputs": [
    {
     "data": {
      "text/plain": [
       "8.565880000000002"
      ]
     },
     "execution_count": 15,
     "metadata": {},
     "output_type": "execute_result"
    }
   ],
   "source": [
    "k[\"iPad Sales (in million units)\"].mean()"
   ]
  },
  {
   "cell_type": "code",
   "execution_count": 16,
   "id": "afb8b1d9-a229-472e-9dae-1757a9262257",
   "metadata": {},
   "outputs": [
    {
     "data": {
      "text/plain": [
       "8.695"
      ]
     },
     "execution_count": 16,
     "metadata": {},
     "output_type": "execute_result"
    }
   ],
   "source": [
    "k[\"iPad Sales (in million units)\"].median()"
   ]
  },
  {
   "cell_type": "code",
   "execution_count": 17,
   "id": "6c171690-2afc-4e28-a325-7acca19a1d4e",
   "metadata": {},
   "outputs": [
    {
     "ename": "TypeError",
     "evalue": "Series.corr() missing 1 required positional argument: 'other'",
     "output_type": "error",
     "traceback": [
      "\u001b[1;31m---------------------------------------------------------------------------\u001b[0m",
      "\u001b[1;31mTypeError\u001b[0m                                 Traceback (most recent call last)",
      "Cell \u001b[1;32mIn[17], line 1\u001b[0m\n\u001b[1;32m----> 1\u001b[0m k[\u001b[38;5;124m\"\u001b[39m\u001b[38;5;124miPad Sales (in million units)\u001b[39m\u001b[38;5;124m\"\u001b[39m]\u001b[38;5;241m.\u001b[39mcorr()\n",
      "\u001b[1;31mTypeError\u001b[0m: Series.corr() missing 1 required positional argument: 'other'"
     ]
    }
   ],
   "source": [
    "k[\"iPad Sales (in million units)\"].corr()"
   ]
  },
  {
   "cell_type": "code",
   "execution_count": null,
   "id": "4d02f560-c76d-4e5e-b51e-a484faab0d68",
   "metadata": {},
   "outputs": [],
   "source": []
  },
  {
   "cell_type": "code",
   "execution_count": 19,
   "id": "0d43bee7-a5db-4b25-80e7-92b6007b6056",
   "metadata": {},
   "outputs": [
    {
     "ename": "TypeError",
     "evalue": "Series.cov() missing 1 required positional argument: 'other'",
     "output_type": "error",
     "traceback": [
      "\u001b[1;31m---------------------------------------------------------------------------\u001b[0m",
      "\u001b[1;31mTypeError\u001b[0m                                 Traceback (most recent call last)",
      "Cell \u001b[1;32mIn[19], line 1\u001b[0m\n\u001b[1;32m----> 1\u001b[0m k[\u001b[38;5;124m\"\u001b[39m\u001b[38;5;124miPad Sales (in million units)\u001b[39m\u001b[38;5;124m\"\u001b[39m]\u001b[38;5;241m.\u001b[39mcov()\n",
      "\u001b[1;31mTypeError\u001b[0m: Series.cov() missing 1 required positional argument: 'other'"
     ]
    }
   ],
   "source": [
    "k[\"iPad Sales (in million units)\"].cov()"
   ]
  },
  {
   "cell_type": "code",
   "execution_count": null,
   "id": "a75a7e18-5419-43b9-a917-e5fa969c0a1c",
   "metadata": {},
   "outputs": [],
   "source": []
  }
 ],
 "metadata": {
  "kernelspec": {
   "display_name": "Python 3 (ipykernel)",
   "language": "python",
   "name": "python3"
  },
  "language_info": {
   "codemirror_mode": {
    "name": "ipython",
    "version": 3
   },
   "file_extension": ".py",
   "mimetype": "text/x-python",
   "name": "python",
   "nbconvert_exporter": "python",
   "pygments_lexer": "ipython3",
   "version": "3.12.7"
  }
 },
 "nbformat": 4,
 "nbformat_minor": 5
}
